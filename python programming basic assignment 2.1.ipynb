{
 "cells": [
  {
   "cell_type": "markdown",
   "metadata": {},
   "source": [
    "# 1.Write a Python program to convert kilometers to miles?"
   ]
  },
  {
   "cell_type": "code",
   "execution_count": 2,
   "metadata": {},
   "outputs": [
    {
     "name": "stdout",
     "output_type": "stream",
     "text": [
      "Please enter kilometers to convert it to miles: 1\n",
      "1.0 kilometers=0.6215040397762586 miles\n"
     ]
    }
   ],
   "source": [
    "#the formulae used gives approximate number\n",
    "km_num=float(input('Please enter kilometers to convert it to miles: '))\n",
    "miles=km_num / 1.609\n",
    "print('{} kilometers={} miles'.format(km_num,miles))"
   ]
  },
  {
   "cell_type": "markdown",
   "metadata": {},
   "source": [
    "# 2.Write a Python program to convert Celsius to Fahrenheit?\n"
   ]
  },
  {
   "cell_type": "code",
   "execution_count": 3,
   "metadata": {},
   "outputs": [
    {
     "name": "stdout",
     "output_type": "stream",
     "text": [
      "Enter temperature in degree celsius to covert it to fahrenheit: -50\n",
      "temperature in degree celsius:-50.0 C \n",
      "temperature in degree fahrenheit:-58.0 F \n"
     ]
    }
   ],
   "source": [
    "temperature=float(input('Enter temperature in degree celsius to covert it to fahrenheit: '))\n",
    "temp_far=(temperature * 1.8 )+32\n",
    "print('temperature in degree celsius:{} C '.format(temperature))\n",
    "print('temperature in degree fahrenheit:{} F '.format(temp_far))"
   ]
  },
  {
   "cell_type": "markdown",
   "metadata": {},
   "source": [
    "# 3.Write a Python program to display calendar?"
   ]
  },
  {
   "cell_type": "code",
   "execution_count": 4,
   "metadata": {},
   "outputs": [
    {
     "name": "stdout",
     "output_type": "stream",
     "text": [
      "Enter year:2021\n",
      "Enter month:04\n",
      "     April 2021\n",
      "Mo Tu We Th Fr Sa Su\n",
      "          1  2  3  4\n",
      " 5  6  7  8  9 10 11\n",
      "12 13 14 15 16 17 18\n",
      "19 20 21 22 23 24 25\n",
      "26 27 28 29 30\n",
      "\n"
     ]
    }
   ],
   "source": [
    "import calendar\n",
    "\n",
    "year=int(input('Enter year:'))\n",
    "month=int(input('Enter month:'))\n",
    "\n",
    "print(calendar.month(year,month))"
   ]
  },
  {
   "cell_type": "markdown",
   "metadata": {},
   "source": [
    "# 4.Write a Python program to solve quadratic equation?"
   ]
  },
  {
   "cell_type": "markdown",
   "metadata": {},
   "source": [
    "standard form of quadratic equation is:     \n",
    "ax2 + bx + c = 0, where     \n",
    "a, b and c are real numbers and   \n",
    "a ≠ 0    \n",
    "\n",
    "Solution of quadratic equation is    \n",
    "(-b ± (b ** 2 - 4 * a * c) ** 0.5) / 2 * a   "
   ]
  },
  {
   "cell_type": "code",
   "execution_count": 7,
   "metadata": {},
   "outputs": [
    {
     "name": "stdout",
     "output_type": "stream",
     "text": [
      "please enter value of \"a\" other than 0: 5\n",
      "Enter value for \"b\": -2\n",
      "Enter value for \"c\": 1\n",
      "solution1: (0.2+0.4j)\n",
      "solution2: (0.2-0.4j)\n"
     ]
    }
   ],
   "source": [
    "import cmath #this module used to perform complex operations\n",
    "a=float(input('please enter value of \"a\" other than 0: '))\n",
    "while a==0:\n",
    "    a=float(input('please enter value for \"a\" other than 0:'))\n",
    "b=float(input('Enter value for \"b\": '))\n",
    "c=float(input('Enter value for \"c\": '))\n",
    "dis=b **2 -(4*a*c)\n",
    "solution1= (-b + cmath.sqrt(dis) )/(2*a)\n",
    "solution2= (-b - cmath.sqrt(dis) )/(2*a)\n",
    "\n",
    "print('solution1: {}'.format(solution1))\n",
    "print('solution2: {}'.format(solution2))"
   ]
  },
  {
   "cell_type": "markdown",
   "metadata": {},
   "source": [
    "# 5.Write a Python program to swap two variables without temp variable?\n"
   ]
  },
  {
   "cell_type": "code",
   "execution_count": 8,
   "metadata": {},
   "outputs": [
    {
     "name": "stdout",
     "output_type": "stream",
     "text": [
      "Enter value for first variable:45\n",
      "Enter value for second variable:67\n",
      "value of first variable:  67.0\n",
      "value of second variable:  45.0\n"
     ]
    }
   ],
   "source": [
    "a=float(input('Enter value for first variable:'))\n",
    "b=float(input('Enter value for second variable:'))\n",
    "\n",
    "a,b =b, a\n",
    "print('value of first variable: ',a)\n",
    "print('value of second variable: ',b)"
   ]
  },
  {
   "cell_type": "code",
   "execution_count": 9,
   "metadata": {},
   "outputs": [
    {
     "name": "stdout",
     "output_type": "stream",
     "text": [
      "Enter value for first variable:10\n",
      "Enter value for second variable:67\n",
      "value of first varibale:  67.0\n",
      "value of second variable:  10.0\n"
     ]
    }
   ],
   "source": [
    "x=float(input('Enter value for first variable:'))\n",
    "y=float(input('Enter value for second variable:'))\n",
    "x=x+y \n",
    "y=x-y\n",
    "x=x-y\n",
    "\n",
    "print('value of first varibale: ',x)\n",
    "print('value of second variable: ',y)"
   ]
  },
  {
   "cell_type": "code",
   "execution_count": null,
   "metadata": {},
   "outputs": [],
   "source": []
  }
 ],
 "metadata": {
  "kernelspec": {
   "display_name": "Python 3",
   "language": "python",
   "name": "python3"
  },
  "language_info": {
   "codemirror_mode": {
    "name": "ipython",
    "version": 3
   },
   "file_extension": ".py",
   "mimetype": "text/x-python",
   "name": "python",
   "nbconvert_exporter": "python",
   "pygments_lexer": "ipython3",
   "version": "3.8.5"
  }
 },
 "nbformat": 4,
 "nbformat_minor": 4
}
