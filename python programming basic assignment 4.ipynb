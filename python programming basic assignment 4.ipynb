{
 "cells": [
  {
   "cell_type": "markdown",
   "metadata": {},
   "source": [
    "# 1.Write a Python Program to Find the Factorial of a Number?"
   ]
  },
  {
   "cell_type": "code",
   "execution_count": 9,
   "metadata": {},
   "outputs": [
    {
     "name": "stdout",
     "output_type": "stream",
     "text": [
      "please enter number to find factorial: 12\n",
      "factorial of 12 is 479001600\n"
     ]
    }
   ],
   "source": [
    "num=int(input('please enter number to find factorial: '))\n",
    "\n",
    "def factorial(number):\n",
    "    result=1\n",
    "    for i in range(1,number+1):\n",
    "        result=result*i\n",
    "        \n",
    "    return result\n",
    "if num==0:\n",
    "    output=0\n",
    "    print('factorial of {} is {}'.format(num,output))\n",
    "elif num>0:\n",
    "    output=factorial(num)\n",
    "    print('factorial of {} is {}'.format(num,output))\n",
    "elif num<0 :\n",
    "    print('Factorial of negative number is not calculated')\n",
    "\n",
    "    "
   ]
  },
  {
   "cell_type": "markdown",
   "metadata": {},
   "source": [
    "# 2.Write a Python Program to Display the multiplication Table?"
   ]
  },
  {
   "cell_type": "code",
   "execution_count": 15,
   "metadata": {},
   "outputs": [
    {
     "name": "stdout",
     "output_type": "stream",
     "text": [
      "Enter number to display multiplication table: 15\n",
      "Multiplication table is: \n",
      "15 X 1 = 15\n",
      "15 X 2 = 30\n",
      "15 X 3 = 45\n",
      "15 X 4 = 60\n",
      "15 X 5 = 75\n",
      "15 X 6 = 90\n",
      "15 X 7 = 105\n",
      "15 X 8 = 120\n",
      "15 X 9 = 135\n",
      "15 X 10 = 150\n"
     ]
    }
   ],
   "source": [
    "num=int(input('Enter number to display multiplication table: '))\n",
    "if num>0:\n",
    "    print('Multiplication table is: ')\n",
    "    for i in range(1,11):\n",
    "        print('{} X {} = {}'.format(num,i,num*i))\n",
    "else:\n",
    "    print('Please enter number greater than zero')"
   ]
  },
  {
   "cell_type": "markdown",
   "metadata": {},
   "source": [
    "# 3.Write a Python Program to Print the Fibonacci sequence?"
   ]
  },
  {
   "cell_type": "code",
   "execution_count": 19,
   "metadata": {},
   "outputs": [
    {
     "name": "stdout",
     "output_type": "stream",
     "text": [
      "Enter Fibanonacci sequence length10\n",
      "Fibonacci series is:\n",
      "0\n",
      "1\n",
      "1\n",
      "2\n",
      "3\n",
      "5\n",
      "8\n",
      "13\n",
      "21\n",
      "34\n"
     ]
    }
   ],
   "source": [
    "num=int(input('Enter Fibanonacci sequence length'))\n",
    "\n",
    "if num>0:\n",
    "    first_num=0\n",
    "    second_num=1\n",
    "    sum=0\n",
    "    i=0\n",
    "    print('Fibonacci series is:')\n",
    "    while i<num:\n",
    "        print(first_num)\n",
    "        sum=first_num+second_num\n",
    "        first_num=second_num\n",
    "        second_num=sum\n",
    "        i+=1\n",
    "else:\n",
    "    print('Please enter positive number')\n",
    "  \n"
   ]
  },
  {
   "cell_type": "markdown",
   "metadata": {},
   "source": [
    "# 4.Write a Python Program to Check Armstrong Number?"
   ]
  },
  {
   "cell_type": "code",
   "execution_count": 26,
   "metadata": {},
   "outputs": [
    {
     "name": "stdout",
     "output_type": "stream",
     "text": [
      "please enter a number to check armstrong: 371\n",
      "Entered number is armstrong\n"
     ]
    }
   ],
   "source": [
    "num=str(int(input('please enter a number to check armstrong: ')))\n",
    "num1=list(num)\n",
    "order=len(num1)\n",
    "sum=0\n",
    "for i in range(len(num1)):\n",
    "    sum=sum+int(num1[i])**order\n",
    "if int(num)==sum:\n",
    "    print('Entered number is armstrong')\n",
    "else:\n",
    "    print('Entered number is not armstrong')"
   ]
  },
  {
   "cell_type": "code",
   "execution_count": 25,
   "metadata": {},
   "outputs": [
    {
     "name": "stdout",
     "output_type": "stream",
     "text": [
      "Enter a number to check if it is armstrong or not: 1634\n",
      "1634 is armstrong number\n"
     ]
    }
   ],
   "source": [
    "#method2\n",
    "num=int(input('Enter a number to check if it is armstrong or not: '))\n",
    "\n",
    "sum=0\n",
    "temp=num\n",
    "order=len(str(num))\n",
    "while temp>0:\n",
    "    sum=sum+(temp%10)**order\n",
    "    temp=temp//10\n",
    "if num==sum:\n",
    "    print(num,'is armstrong number')\n",
    "else:\n",
    "    print(num,' is not armstrong number')"
   ]
  },
  {
   "cell_type": "markdown",
   "metadata": {},
   "source": [
    "# 5.Write a Python Program to Find Armstrong Number in an Interval?"
   ]
  },
  {
   "cell_type": "code",
   "execution_count": 27,
   "metadata": {},
   "outputs": [
    {
     "name": "stdout",
     "output_type": "stream",
     "text": [
      "Enter lower range for armstrong number0\n",
      "Enter higher range for armstrong number500\n",
      "0\n",
      "1\n",
      "2\n",
      "3\n",
      "4\n",
      "5\n",
      "6\n",
      "7\n",
      "8\n",
      "9\n",
      "153\n",
      "370\n",
      "371\n",
      "407\n"
     ]
    }
   ],
   "source": [
    "num1=int(input('Enter lower range for armstrong number'))\n",
    "num2=int(input('Enter higher range for armstrong number'))\n",
    "for i in range(num1, num2+1,1):\n",
    "    order=len(str(i))\n",
    "    temp=i\n",
    "    sum=0\n",
    "    while temp>0:\n",
    "        sum=sum+(temp%10)**order\n",
    "        temp=temp//10\n",
    "    if i==sum:\n",
    "        print(i)"
   ]
  },
  {
   "cell_type": "markdown",
   "metadata": {},
   "source": [
    "# 6.Write a Python Program to Find the Sum of Natural Numbers?"
   ]
  },
  {
   "cell_type": "code",
   "execution_count": 28,
   "metadata": {},
   "outputs": [
    {
     "name": "stdout",
     "output_type": "stream",
     "text": [
      "please enter range of natural number10\n",
      "sum of natural number:  55\n",
      "55\n"
     ]
    }
   ],
   "source": [
    "num=int(input('please enter range of natural number'))\n",
    "if num>0:\n",
    "    sum=0\n",
    "    for i in range(num+1):\n",
    "        sum=sum+i\n",
    "    print('sum of natural number: ',sum)\n",
    "else:\n",
    "    print('enter a positive number')\n",
    "print(sum)\n",
    "    "
   ]
  },
  {
   "cell_type": "code",
   "execution_count": null,
   "metadata": {},
   "outputs": [],
   "source": []
  }
 ],
 "metadata": {
  "kernelspec": {
   "display_name": "Python 3",
   "language": "python",
   "name": "python3"
  },
  "language_info": {
   "codemirror_mode": {
    "name": "ipython",
    "version": 3
   },
   "file_extension": ".py",
   "mimetype": "text/x-python",
   "name": "python",
   "nbconvert_exporter": "python",
   "pygments_lexer": "ipython3",
   "version": "3.8.5"
  }
 },
 "nbformat": 4,
 "nbformat_minor": 4
}
