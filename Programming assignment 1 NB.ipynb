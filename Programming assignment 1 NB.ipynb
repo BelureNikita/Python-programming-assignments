{
 "cells": [
  {
   "cell_type": "markdown",
   "metadata": {},
   "source": [
    "## 1.Write a Python program to print \"Hello Python\"?\n"
   ]
  },
  {
   "cell_type": "code",
   "execution_count": 28,
   "metadata": {},
   "outputs": [
    {
     "name": "stdout",
     "output_type": "stream",
     "text": [
      " \"Hello Python\"?\n"
     ]
    }
   ],
   "source": [
    "print(' \"Hello Python\"?')"
   ]
  },
  {
   "cell_type": "markdown",
   "metadata": {},
   "source": [
    "## 2.Write a Python program to do arithmetical operations addition and division.?\n"
   ]
  },
  {
   "cell_type": "code",
   "execution_count": 29,
   "metadata": {},
   "outputs": [
    {
     "name": "stdout",
     "output_type": "stream",
     "text": [
      "Enter 1st value 235\n",
      "Enter 2nd value 234.8\n",
      "addition of 235.0 and 234.8 is 469.8\n",
      "Division of 235.0 and 234.8 is 1.0008517887563884\n"
     ]
    }
   ],
   "source": [
    "a=float(input('Enter 1st value '))\n",
    "b=float(input('Enter 2nd value '))\n",
    "addition=a+b\n",
    "division=a/b\n",
    "print('addition of {0} and {1} is {2}'.format(a,b,addition))\n",
    "print('Division of {0} and {1} is {2}'.format(a,b,division))"
   ]
  },
  {
   "cell_type": "markdown",
   "metadata": {},
   "source": [
    "## 3.Write a Python program to find the area of a triangle?\n"
   ]
  },
  {
   "cell_type": "code",
   "execution_count": 30,
   "metadata": {},
   "outputs": [
    {
     "name": "stdout",
     "output_type": "stream",
     "text": [
      "Enter base length of triangle 2\n",
      "Enter height length of triangle 8\n",
      "Height:  8.0\n",
      "Base:  2.0\n",
      "Area of triangle:  8.0\n"
     ]
    }
   ],
   "source": [
    "base=float(input('Enter base length of triangle '))\n",
    "height=float(input('Enter height length of triangle '))\n",
    "area=height*base/2\n",
    "print('Height: ',height)\n",
    "print('Base: ', base)\n",
    "print('Area of triangle: ', area)"
   ]
  },
  {
   "cell_type": "markdown",
   "metadata": {},
   "source": [
    "## 4.Write a Python program to swap two variables?\n",
    " "
   ]
  },
  {
   "cell_type": "code",
   "execution_count": 31,
   "metadata": {},
   "outputs": [
    {
     "name": "stdout",
     "output_type": "stream",
     "text": [
      "Enter value for first variable: 1235\n",
      "Enter value for second variable: 75432\n",
      "first variable value is:  75432\n",
      "Second variable value is:  1235\n"
     ]
    }
   ],
   "source": [
    "first_var=input('Enter value for first variable: ')\n",
    "second_var=input('Enter value for second variable: ')\n",
    "temp=first_var\n",
    "first_var=second_var\n",
    "second_var=temp\n",
    "print('first variable value is: ', first_var)\n",
    "print('Second variable value is: ', second_var)\n"
   ]
  },
  {
   "cell_type": "markdown",
   "metadata": {},
   "source": [
    "## 5.Write a Python program to generate a random number?\n"
   ]
  },
  {
   "cell_type": "code",
   "execution_count": 27,
   "metadata": {},
   "outputs": [
    {
     "name": "stdout",
     "output_type": "stream",
     "text": [
      "7956\n"
     ]
    }
   ],
   "source": [
    "import random  #import random library\n",
    "lst=[i for i in range(1,10000)]\n",
    "print(random.choice(lst))  #choice is a fun defined in import library"
   ]
  },
  {
   "cell_type": "code",
   "execution_count": null,
   "metadata": {},
   "outputs": [],
   "source": []
  }
 ],
 "metadata": {
  "kernelspec": {
   "display_name": "Python 3",
   "language": "python",
   "name": "python3"
  },
  "language_info": {
   "codemirror_mode": {
    "name": "ipython",
    "version": 3
   },
   "file_extension": ".py",
   "mimetype": "text/x-python",
   "name": "python",
   "nbconvert_exporter": "python",
   "pygments_lexer": "ipython3",
   "version": "3.8.5"
  }
 },
 "nbformat": 4,
 "nbformat_minor": 4
}
