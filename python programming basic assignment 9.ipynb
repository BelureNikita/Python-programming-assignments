{
 "cells": [
  {
   "cell_type": "markdown",
   "metadata": {},
   "source": [
    "# 1.Write a Python program to check if the given number is a Disarium Number?"
   ]
  },
  {
   "cell_type": "markdown",
   "metadata": {},
   "source": [
    "A Disarium number is a number defined by the following process: Sum of its digits powered with their respective position is equal to the original number"
   ]
  },
  {
   "cell_type": "code",
   "execution_count": 3,
   "metadata": {},
   "outputs": [
    {
     "name": "stdout",
     "output_type": "stream",
     "text": [
      "please enter a number to check if it is disarium number or not: 175\n",
      "the entered number is disarium: 175\n"
     ]
    }
   ],
   "source": [
    "def check_disarium(num1):\n",
    "    temp_num=num1\n",
    "    sum=0\n",
    "    count=len(str(temp_num))\n",
    "    while temp_num>0:\n",
    "        rem=temp_num%10\n",
    "        temp_num=temp_num//10\n",
    "        sum+=(rem**count)\n",
    "        count-=1\n",
    "    if sum==num1:\n",
    "        print('the entered number is disarium: {}'.format(num1))\n",
    "    else:\n",
    "        print('the entered number is not disarium: {}'.format(num1))\n",
    "\n",
    "try:\n",
    "    num=int(input('please enter a number to check if it is disarium number or not: '))\n",
    "    check_disarium(num)\n",
    "except Exception as e:\n",
    "    print(e)\n",
    "    print('Entered number is not integer')"
   ]
  },
  {
   "cell_type": "markdown",
   "metadata": {},
   "source": [
    "# 2.Write a Python program to print all disarium numbers between 1 to 100?"
   ]
  },
  {
   "cell_type": "code",
   "execution_count": 4,
   "metadata": {},
   "outputs": [
    {
     "name": "stdout",
     "output_type": "stream",
     "text": [
      "disarium numbers between 1 to 100 are as below:\n",
      "1\n",
      "2\n",
      "3\n",
      "4\n",
      "5\n",
      "6\n",
      "7\n",
      "8\n",
      "9\n",
      "89\n"
     ]
    }
   ],
   "source": [
    "def disarium_num_in_range(upper_limit):\n",
    "    for num in range(1,upper_limit):\n",
    "        temp_num=num\n",
    "        count=len(str(num))\n",
    "        sum=0\n",
    "        while temp_num>0:\n",
    "            rem=temp_num%10\n",
    "            temp_num=temp_num//10\n",
    "            sum+=rem**count\n",
    "            count-=1\n",
    "        if sum==num:\n",
    "            print(num)\n",
    "try: \n",
    "    print('disarium numbers between 1 to 100 are as below:')\n",
    "    disarium_num_in_range(100)\n",
    "except Exception as e:\n",
    "    print(e)"
   ]
  },
  {
   "cell_type": "markdown",
   "metadata": {},
   "source": [
    "# 3.Write a Python program to check if the given number is Happy Number?"
   ]
  },
  {
   "cell_type": "markdown",
   "metadata": {},
   "source": [
    "In number theory, a happy number is a number which eventually reaches 1 when replaced by the sum of the square of each digit."
   ]
  },
  {
   "cell_type": "code",
   "execution_count": 7,
   "metadata": {},
   "outputs": [
    {
     "name": "stdout",
     "output_type": "stream",
     "text": [
      "Please enter an integer number to check if it is happy number or not: 44\n",
      "Entered number 44 is happy number\n"
     ]
    }
   ],
   "source": [
    "def square_sum(n):\n",
    "    sum=0\n",
    "    while n:\n",
    "        rem=n%10\n",
    "        n=n//10\n",
    "        sum+=(rem**2)\n",
    "    return sum\n",
    "\n",
    "def happy_number(num2):\n",
    "    num=num2\n",
    "    while num>0:\n",
    "        num=square_sum(num)\n",
    "        if num==1:\n",
    "            print('Entered number {} is happy number'.format(num2))\n",
    "            break\n",
    "        if len(str(num))==1:\n",
    "            print('Entered number {} is not happy number'.format(num2))\n",
    "            break\n",
    "try:\n",
    "    number=int(input('Please enter an integer number to check if it is happy number or not: '))\n",
    "    happy_number(number)\n",
    "except Exception as e:\n",
    "    print(e)\n",
    "    print('Entered number is not integer number')"
   ]
  },
  {
   "cell_type": "markdown",
   "metadata": {},
   "source": [
    "# 4.Write a Python program to print all happy numbers between 1 and 100?"
   ]
  },
  {
   "cell_type": "code",
   "execution_count": 8,
   "metadata": {},
   "outputs": [
    {
     "name": "stdout",
     "output_type": "stream",
     "text": [
      "Happy number between 1 and 100 are: \n",
      "1\n",
      "7\n",
      "10\n",
      "13\n",
      "19\n",
      "23\n",
      "28\n",
      "31\n",
      "32\n",
      "44\n",
      "49\n",
      "68\n",
      "70\n",
      "79\n",
      "82\n",
      "86\n",
      "91\n",
      "94\n",
      "97\n",
      "100\n"
     ]
    }
   ],
   "source": [
    "def square_sum(n):\n",
    "    rem=0\n",
    "    sum=0\n",
    "    while n:\n",
    "        rem=n%10\n",
    "        n=n//10\n",
    "        sum+=(rem**2)\n",
    "    return sum\n",
    "\n",
    "try:\n",
    "    print('Happy number between 1 and 100 are: ')\n",
    "    for i in range(1,101):\n",
    "        output=i\n",
    "    \n",
    "        while(output!=1 and output!=4):\n",
    "            output=square_sum(output)\n",
    "        if output==1:\n",
    "            print(i)\n",
    "except Exception as e:\n",
    "    print(e)"
   ]
  },
  {
   "cell_type": "markdown",
   "metadata": {},
   "source": [
    "# 5.Write a Python program to determine whether the given number is a Harshad Number?"
   ]
  },
  {
   "cell_type": "markdown",
   "metadata": {},
   "source": [
    "In mathematics, a harshad number in a given number base is an integer that is divisible by the sum of its digits when written in that base. Harshad numbers in base n are also known as n-harshad numbers. "
   ]
  },
  {
   "cell_type": "code",
   "execution_count": 11,
   "metadata": {},
   "outputs": [
    {
     "name": "stdout",
     "output_type": "stream",
     "text": [
      "Enter an integer number to check if it is Harshard number or not: 156\n",
      "156 is harshard number\n"
     ]
    }
   ],
   "source": [
    "def harshard_num(num2):\n",
    "    num=num2\n",
    "    sum=0\n",
    "    base=10\n",
    "    i=0\n",
    "    while num:\n",
    "        rem=num%10\n",
    "        num=num//10\n",
    "        sum=sum+rem\n",
    "        i+=1\n",
    "    if num2%sum ==0:\n",
    "        print('{} is harshard number'.format(num2))\n",
    "    else:\n",
    "        print('{} is not harshard number'.format(num2))\n",
    "\n",
    "try:\n",
    "    number=int(input('Enter an integer number to check if it is Harshard number or not: '))\n",
    "    harshard_num(number)\n",
    "except Exception as e:\n",
    "    print(e)\n",
    "    print('Entered number is not an integer')"
   ]
  },
  {
   "cell_type": "markdown",
   "metadata": {},
   "source": [
    "# 6.Write a Python program to print all pronic numbers between 1 and 100?"
   ]
  },
  {
   "cell_type": "markdown",
   "metadata": {},
   "source": [
    "A pronic number is a number which is the product of two consecutive integers, that is, a number of the form n(n + 1)."
   ]
  },
  {
   "cell_type": "code",
   "execution_count": 12,
   "metadata": {},
   "outputs": [
    {
     "name": "stdout",
     "output_type": "stream",
     "text": [
      "2\n",
      "6\n",
      "12\n",
      "20\n",
      "30\n",
      "42\n",
      "56\n",
      "72\n",
      "90\n"
     ]
    }
   ],
   "source": [
    "def pronic_num(n):\n",
    "    for i in range(1,n):\n",
    "        check=i*(i+1)\n",
    "        if check < 100:\n",
    "            print(check)\n",
    "try:            \n",
    "    num=100\n",
    "    pronic_num(num)\n",
    "except Exception as e:\n",
    "    print(e)\n",
    "    "
   ]
  },
  {
   "cell_type": "code",
   "execution_count": null,
   "metadata": {},
   "outputs": [],
   "source": []
  }
 ],
 "metadata": {
  "kernelspec": {
   "display_name": "Python 3",
   "language": "python",
   "name": "python3"
  },
  "language_info": {
   "codemirror_mode": {
    "name": "ipython",
    "version": 3
   },
   "file_extension": ".py",
   "mimetype": "text/x-python",
   "name": "python",
   "nbconvert_exporter": "python",
   "pygments_lexer": "ipython3",
   "version": "3.8.5"
  }
 },
 "nbformat": 4,
 "nbformat_minor": 4
}
