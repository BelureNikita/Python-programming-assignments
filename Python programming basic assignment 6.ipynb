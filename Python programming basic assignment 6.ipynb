{
 "cells": [
  {
   "cell_type": "markdown",
   "metadata": {},
   "source": [
    "# 1.Write a Python Program to Display Fibonacci Sequence Using Recursion?"
   ]
  },
  {
   "cell_type": "code",
   "execution_count": 69,
   "metadata": {},
   "outputs": [
    {
     "name": "stdout",
     "output_type": "stream",
     "text": [
      "Enter length of fibonacci sequence: 5\n",
      "0\n",
      "1\n",
      "1\n",
      "2\n",
      "3\n"
     ]
    }
   ],
   "source": [
    "def fib_sequence(n):\n",
    "    if n<=1:\n",
    "        return n\n",
    "    return fib_sequence(n-1) + fib_sequence(n-2)\n",
    "try:\n",
    "    num=int(input('Enter length of fibonacci sequence: '))\n",
    "    for i in range(num):\n",
    "        print(fib_sequence(i))\n",
    "except Exception as e:\n",
    "    print(e)\n",
    "    print('Enter an integer length of fibonacci sequence: ')\n"
   ]
  },
  {
   "cell_type": "markdown",
   "metadata": {},
   "source": [
    "# 2.Write a Python Program to Find Factorial of Number Using Recursion?"
   ]
  },
  {
   "cell_type": "code",
   "execution_count": 70,
   "metadata": {},
   "outputs": [
    {
     "name": "stdout",
     "output_type": "stream",
     "text": [
      "Enter integer number to find factorial: 10\n",
      "factorial of 10 is 3628800\n"
     ]
    }
   ],
   "source": [
    "def factorial_num(num):\n",
    "    if num==0:\n",
    "        return 1\n",
    "      #  output=num*factorial_num(num-1)\n",
    "    return num*factorial_num(num-1)\n",
    "\n",
    "try:\n",
    "    n=int(input('Enter integer number to find factorial: '))\n",
    "    op=factorial_num(n)\n",
    "    print('factorial of {} is {}'.format(n,op))\n",
    "except Exception as e:\n",
    "    print(e)\n",
    "    print('Enter integer number to find factorial')"
   ]
  },
  {
   "cell_type": "markdown",
   "metadata": {},
   "source": [
    "# 3.Write a Python Program to calculate your Body Mass Index?"
   ]
  },
  {
   "cell_type": "code",
   "execution_count": 35,
   "metadata": {},
   "outputs": [
    {
     "name": "stdout",
     "output_type": "stream",
     "text": [
      "Enter weight of person in kg:57\n",
      "Enter height of person in centimeter:155\n",
      "Body mass index of 57.0 kg weight and 155.0 inch height is 23.725286160249738\n"
     ]
    }
   ],
   "source": [
    "def body_mass_index(weight, height):\n",
    "    output=weight/(height*height)\n",
    "    return output\n",
    "\n",
    "try:\n",
    "    weight_kg=float(input('Enter weight of person in kg:'))\n",
    "    height_cm=float(input('Enter height of person in centimeter:'))\n",
    "    height_meter=(height_cm/100)\n",
    "    BMI=body_mass_index(weight_kg,height_meter)\n",
    "    print('Body mass index of {} kg weight and {} inch height is {}'.format(weight_kg,height_cm,BMI))\n",
    "except Exception as e:\n",
    "    print(e)\n",
    "    print('Enter integer or float number to calculate Body mass index')"
   ]
  },
  {
   "cell_type": "markdown",
   "metadata": {},
   "source": [
    "## 4.Write a Python Program to calculate the natural logarithm of any number?"
   ]
  },
  {
   "cell_type": "code",
   "execution_count": 71,
   "metadata": {},
   "outputs": [
    {
     "name": "stdout",
     "output_type": "stream",
     "text": [
      "Enter number to find logartihm:10\n",
      "natural log of 10.0 is 2.302585092994046\n"
     ]
    }
   ],
   "source": [
    "import math\n",
    "def log_fun(n):\n",
    "    output=math.log(n)\n",
    "    return output\n",
    "\n",
    "try:\n",
    "    num=float(input('Enter number to find logartihm:'))\n",
    "    log_num=log_fun(num)\n",
    "    print('natural log of {} is {}'.format(num,log_num))\n",
    "except Exception as e:\n",
    "    print(e)\n"
   ]
  },
  {
   "cell_type": "markdown",
   "metadata": {},
   "source": [
    "# 5. Write a Python Program for cube sum of first n natural numbers?"
   ]
  },
  {
   "cell_type": "markdown",
   "metadata": {},
   "source": [
    "Formula for sum of cube of first n natural number is (n*(n+1)/2)**2"
   ]
  },
  {
   "cell_type": "code",
   "execution_count": 72,
   "metadata": {},
   "outputs": [
    {
     "name": "stdout",
     "output_type": "stream",
     "text": [
      "Please enter value of n to calculate cube sum of first n natural numbers10\n",
      "Cube sum of first n naturaal numbers:  3025.0\n"
     ]
    }
   ],
   "source": [
    "def cube_sum(num):\n",
    "    sum=(num*(num+1)/2)**2\n",
    "    return sum\n",
    "\n",
    "try:\n",
    "    n=int(input('Please enter value of n to calculate cube sum of first n natural numbers'))\n",
    "    sum1=cube_sum(n)\n",
    "    print('Cube sum of first n naturaal numbers: ',sum1)\n",
    "except Exception as e:\n",
    "    print(e)\n",
    "    print('please enter integer number to find cube sum')"
   ]
  },
  {
   "cell_type": "code",
   "execution_count": null,
   "metadata": {},
   "outputs": [],
   "source": []
  }
 ],
 "metadata": {
  "kernelspec": {
   "display_name": "Python 3",
   "language": "python",
   "name": "python3"
  },
  "language_info": {
   "codemirror_mode": {
    "name": "ipython",
    "version": 3
   },
   "file_extension": ".py",
   "mimetype": "text/x-python",
   "name": "python",
   "nbconvert_exporter": "python",
   "pygments_lexer": "ipython3",
   "version": "3.8.5"
  }
 },
 "nbformat": 4,
 "nbformat_minor": 4
}
